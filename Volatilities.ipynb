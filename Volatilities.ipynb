{
 "cells": [
  {
   "cell_type": "code",
   "execution_count": 1,
   "metadata": {},
   "outputs": [],
   "source": [
    "import numpy as np\n",
    "import pandas as pd"
   ]
  },
  {
   "cell_type": "code",
   "execution_count": 14,
   "metadata": {},
   "outputs": [],
   "source": [
    "portfolio =pd.read_csv('mwu_weights_return_equal_absolute_lowvol_weekly.csv',index_col=0,usecols=['Values'])\n",
    "T=len(portfolio)\n"
   ]
  },
  {
   "cell_type": "code",
   "execution_count": 9,
   "metadata": {},
   "outputs": [
    {
     "data": {
      "text/plain": [
       "0.024990863403339506"
      ]
     },
     "execution_count": 9,
     "metadata": {},
     "output_type": "execute_result"
    }
   ],
   "source": [
    "daily_returns = [(portfolio['Values'].iloc[i+1]/portfolio['Values'].iloc[i] -1) for i in range(T-1)]\n",
    "np.std(daily_returns,ddof=1)"
   ]
  },
  {
   "cell_type": "code",
   "execution_count": 16,
   "metadata": {},
   "outputs": [
    {
     "name": "stdout",
     "output_type": "stream",
     "text": [
      "0.025\n",
      "0.0234\n",
      "0.0239\n",
      "0.0235\n",
      "0.0126\n",
      "0.0123\n",
      "0.0127\n",
      "0.0127\n",
      "0.0025\n",
      "0.0024\n",
      "0.0025\n",
      "0.0024\n",
      "0.0424\n",
      "0.0736\n",
      "0.0433\n",
      "0.0736\n",
      "0.0193\n",
      "0.0355\n",
      "0.0207\n",
      "0.0356\n",
      "0.0046\n",
      "0.003\n",
      "0.0047\n",
      "0.003\n"
     ]
    }
   ],
   "source": [
    "#mwu\n",
    "for a in ['lowvol','highvol']:\n",
    "    for b in ['weekly','daily','hourly']:\n",
    "        for c in ['absolute','pricerel']:\n",
    "            for d in ['equal','marketcap']:\n",
    "                portfolio =pd.read_csv(f'mwu_weights_return_{d}_{c}_{a}_{b}.csv',index_col=0)\n",
    "                T=len(portfolio)\n",
    "                daily_returns = [(portfolio['Values'].iloc[i+1]/portfolio['Values'].iloc[i] -1) for i in range(T-1)]\n",
    "                #print(a,b,c,d,round(np.std(daily_returns,ddof=1),4))\n",
    "                print(round(np.std(daily_returns,ddof=1),4))"
   ]
  },
  {
   "cell_type": "code",
   "execution_count": 18,
   "metadata": {},
   "outputs": [
    {
     "name": "stdout",
     "output_type": "stream",
     "text": [
      "0.0244\n",
      "0.0239\n",
      "0.0118\n",
      "0.0122\n",
      "0.0026\n",
      "0.0024\n",
      "0.0421\n",
      "0.0737\n",
      "0.0193\n",
      "0.0356\n",
      "0.0046\n",
      "0.003\n"
     ]
    }
   ],
   "source": [
    "#rwma\n",
    "for a in ['lowvol','highvol']:\n",
    "    for b in ['weekly','daily','hourly']:\n",
    "        for c in ['absolute']:\n",
    "            for d in ['equal','marketcap']:\n",
    "                portfolio =pd.read_csv(f'rwma_weights_return_{d}_{c}_{a}_{b}.csv',index_col=0)\n",
    "                T=len(portfolio)\n",
    "                daily_returns = [(portfolio['Values'].iloc[i+1]/portfolio['Values'].iloc[i] -1) for i in range(T-1)]\n",
    "                #print(a,b,c,d,round(np.std(daily_returns,ddof=1),4))\n",
    "                print(round(np.std(daily_returns,ddof=1),4))"
   ]
  },
  {
   "cell_type": "code",
   "execution_count": null,
   "metadata": {},
   "outputs": [],
   "source": []
  }
 ],
 "metadata": {
  "kernelspec": {
   "display_name": "Python 3",
   "language": "python",
   "name": "python3"
  },
  "language_info": {
   "codemirror_mode": {
    "name": "ipython",
    "version": 3
   },
   "file_extension": ".py",
   "mimetype": "text/x-python",
   "name": "python",
   "nbconvert_exporter": "python",
   "pygments_lexer": "ipython3",
   "version": "3.7.1"
  }
 },
 "nbformat": 4,
 "nbformat_minor": 2
}
