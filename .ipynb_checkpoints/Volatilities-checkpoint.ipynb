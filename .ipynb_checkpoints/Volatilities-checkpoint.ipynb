{
 "cells": [
  {
   "cell_type": "code",
   "execution_count": 1,
   "metadata": {},
   "outputs": [],
   "source": [
    "import numpy as np\n",
    "import pandas as pd"
   ]
  },
  {
   "cell_type": "code",
   "execution_count": 4,
   "metadata": {},
   "outputs": [],
   "source": [
    "portfolio =pd.read_csv('Results/mwu_weights_return_equal_absolute_lowvol_weekly.csv',index_col=0,usecols=['Values'])\n",
    "T=len(portfolio)\n"
   ]
  },
  {
   "cell_type": "code",
   "execution_count": 5,
   "metadata": {},
   "outputs": [
    {
     "ename": "FileNotFoundError",
     "evalue": "[Errno 2] File b'hedge_weights_return_equal_absolute_lowvol_weekly.csv' does not exist: b'hedge_weights_return_equal_absolute_lowvol_weekly.csv'",
     "output_type": "error",
     "traceback": [
      "\u001b[1;31m---------------------------------------------------------------------------\u001b[0m",
      "\u001b[1;31mFileNotFoundError\u001b[0m                         Traceback (most recent call last)",
      "\u001b[1;32m<ipython-input-5-7b1045274f05>\u001b[0m in \u001b[0;36m<module>\u001b[1;34m\u001b[0m\n\u001b[0;32m      5\u001b[0m         \u001b[1;32mfor\u001b[0m \u001b[0mc\u001b[0m \u001b[1;32min\u001b[0m \u001b[1;33m[\u001b[0m\u001b[1;34m'absolute'\u001b[0m\u001b[1;33m,\u001b[0m\u001b[1;34m'pricerel'\u001b[0m\u001b[1;33m]\u001b[0m\u001b[1;33m:\u001b[0m\u001b[1;33m\u001b[0m\u001b[1;33m\u001b[0m\u001b[0m\n\u001b[0;32m      6\u001b[0m             \u001b[1;32mfor\u001b[0m \u001b[0md\u001b[0m \u001b[1;32min\u001b[0m \u001b[1;33m[\u001b[0m\u001b[1;34m'equal'\u001b[0m\u001b[1;33m,\u001b[0m\u001b[1;34m'marketcap'\u001b[0m\u001b[1;33m]\u001b[0m\u001b[1;33m:\u001b[0m\u001b[1;33m\u001b[0m\u001b[1;33m\u001b[0m\u001b[0m\n\u001b[1;32m----> 7\u001b[1;33m                 \u001b[0mportfolio\u001b[0m \u001b[1;33m=\u001b[0m\u001b[0mpd\u001b[0m\u001b[1;33m.\u001b[0m\u001b[0mread_csv\u001b[0m\u001b[1;33m(\u001b[0m\u001b[1;34mf'hedge_weights_return_{d}_{c}_{a}_{b}.csv'\u001b[0m\u001b[1;33m,\u001b[0m\u001b[0mindex_col\u001b[0m\u001b[1;33m=\u001b[0m\u001b[1;36m0\u001b[0m\u001b[1;33m)\u001b[0m\u001b[1;33m\u001b[0m\u001b[1;33m\u001b[0m\u001b[0m\n\u001b[0m\u001b[0;32m      8\u001b[0m                 \u001b[0mT\u001b[0m\u001b[1;33m=\u001b[0m\u001b[0mlen\u001b[0m\u001b[1;33m(\u001b[0m\u001b[0mportfolio\u001b[0m\u001b[1;33m)\u001b[0m\u001b[1;33m\u001b[0m\u001b[1;33m\u001b[0m\u001b[0m\n\u001b[0;32m      9\u001b[0m                 \u001b[0mdaily_returns\u001b[0m \u001b[1;33m=\u001b[0m \u001b[1;33m[\u001b[0m\u001b[1;33m(\u001b[0m\u001b[0mportfolio\u001b[0m\u001b[1;33m[\u001b[0m\u001b[1;34m'Values'\u001b[0m\u001b[1;33m]\u001b[0m\u001b[1;33m.\u001b[0m\u001b[0miloc\u001b[0m\u001b[1;33m[\u001b[0m\u001b[0mi\u001b[0m\u001b[1;33m+\u001b[0m\u001b[1;36m1\u001b[0m\u001b[1;33m]\u001b[0m\u001b[1;33m/\u001b[0m\u001b[0mportfolio\u001b[0m\u001b[1;33m[\u001b[0m\u001b[1;34m'Values'\u001b[0m\u001b[1;33m]\u001b[0m\u001b[1;33m.\u001b[0m\u001b[0miloc\u001b[0m\u001b[1;33m[\u001b[0m\u001b[0mi\u001b[0m\u001b[1;33m]\u001b[0m \u001b[1;33m-\u001b[0m\u001b[1;36m1\u001b[0m\u001b[1;33m)\u001b[0m \u001b[1;32mfor\u001b[0m \u001b[0mi\u001b[0m \u001b[1;32min\u001b[0m \u001b[0mrange\u001b[0m\u001b[1;33m(\u001b[0m\u001b[0mT\u001b[0m\u001b[1;33m-\u001b[0m\u001b[1;36m1\u001b[0m\u001b[1;33m)\u001b[0m\u001b[1;33m]\u001b[0m\u001b[1;33m\u001b[0m\u001b[1;33m\u001b[0m\u001b[0m\n",
      "\u001b[1;32m~\\Miniconda3\\lib\\site-packages\\pandas\\io\\parsers.py\u001b[0m in \u001b[0;36mparser_f\u001b[1;34m(filepath_or_buffer, sep, delimiter, header, names, index_col, usecols, squeeze, prefix, mangle_dupe_cols, dtype, engine, converters, true_values, false_values, skipinitialspace, skiprows, skipfooter, nrows, na_values, keep_default_na, na_filter, verbose, skip_blank_lines, parse_dates, infer_datetime_format, keep_date_col, date_parser, dayfirst, iterator, chunksize, compression, thousands, decimal, lineterminator, quotechar, quoting, doublequote, escapechar, comment, encoding, dialect, tupleize_cols, error_bad_lines, warn_bad_lines, delim_whitespace, low_memory, memory_map, float_precision)\u001b[0m\n\u001b[0;32m    700\u001b[0m                     skip_blank_lines=skip_blank_lines)\n\u001b[0;32m    701\u001b[0m \u001b[1;33m\u001b[0m\u001b[0m\n\u001b[1;32m--> 702\u001b[1;33m         \u001b[1;32mreturn\u001b[0m \u001b[0m_read\u001b[0m\u001b[1;33m(\u001b[0m\u001b[0mfilepath_or_buffer\u001b[0m\u001b[1;33m,\u001b[0m \u001b[0mkwds\u001b[0m\u001b[1;33m)\u001b[0m\u001b[1;33m\u001b[0m\u001b[1;33m\u001b[0m\u001b[0m\n\u001b[0m\u001b[0;32m    703\u001b[0m \u001b[1;33m\u001b[0m\u001b[0m\n\u001b[0;32m    704\u001b[0m     \u001b[0mparser_f\u001b[0m\u001b[1;33m.\u001b[0m\u001b[0m__name__\u001b[0m \u001b[1;33m=\u001b[0m \u001b[0mname\u001b[0m\u001b[1;33m\u001b[0m\u001b[1;33m\u001b[0m\u001b[0m\n",
      "\u001b[1;32m~\\Miniconda3\\lib\\site-packages\\pandas\\io\\parsers.py\u001b[0m in \u001b[0;36m_read\u001b[1;34m(filepath_or_buffer, kwds)\u001b[0m\n\u001b[0;32m    427\u001b[0m \u001b[1;33m\u001b[0m\u001b[0m\n\u001b[0;32m    428\u001b[0m     \u001b[1;31m# Create the parser.\u001b[0m\u001b[1;33m\u001b[0m\u001b[1;33m\u001b[0m\u001b[1;33m\u001b[0m\u001b[0m\n\u001b[1;32m--> 429\u001b[1;33m     \u001b[0mparser\u001b[0m \u001b[1;33m=\u001b[0m \u001b[0mTextFileReader\u001b[0m\u001b[1;33m(\u001b[0m\u001b[0mfilepath_or_buffer\u001b[0m\u001b[1;33m,\u001b[0m \u001b[1;33m**\u001b[0m\u001b[0mkwds\u001b[0m\u001b[1;33m)\u001b[0m\u001b[1;33m\u001b[0m\u001b[1;33m\u001b[0m\u001b[0m\n\u001b[0m\u001b[0;32m    430\u001b[0m \u001b[1;33m\u001b[0m\u001b[0m\n\u001b[0;32m    431\u001b[0m     \u001b[1;32mif\u001b[0m \u001b[0mchunksize\u001b[0m \u001b[1;32mor\u001b[0m \u001b[0miterator\u001b[0m\u001b[1;33m:\u001b[0m\u001b[1;33m\u001b[0m\u001b[1;33m\u001b[0m\u001b[0m\n",
      "\u001b[1;32m~\\Miniconda3\\lib\\site-packages\\pandas\\io\\parsers.py\u001b[0m in \u001b[0;36m__init__\u001b[1;34m(self, f, engine, **kwds)\u001b[0m\n\u001b[0;32m    893\u001b[0m             \u001b[0mself\u001b[0m\u001b[1;33m.\u001b[0m\u001b[0moptions\u001b[0m\u001b[1;33m[\u001b[0m\u001b[1;34m'has_index_names'\u001b[0m\u001b[1;33m]\u001b[0m \u001b[1;33m=\u001b[0m \u001b[0mkwds\u001b[0m\u001b[1;33m[\u001b[0m\u001b[1;34m'has_index_names'\u001b[0m\u001b[1;33m]\u001b[0m\u001b[1;33m\u001b[0m\u001b[1;33m\u001b[0m\u001b[0m\n\u001b[0;32m    894\u001b[0m \u001b[1;33m\u001b[0m\u001b[0m\n\u001b[1;32m--> 895\u001b[1;33m         \u001b[0mself\u001b[0m\u001b[1;33m.\u001b[0m\u001b[0m_make_engine\u001b[0m\u001b[1;33m(\u001b[0m\u001b[0mself\u001b[0m\u001b[1;33m.\u001b[0m\u001b[0mengine\u001b[0m\u001b[1;33m)\u001b[0m\u001b[1;33m\u001b[0m\u001b[1;33m\u001b[0m\u001b[0m\n\u001b[0m\u001b[0;32m    896\u001b[0m \u001b[1;33m\u001b[0m\u001b[0m\n\u001b[0;32m    897\u001b[0m     \u001b[1;32mdef\u001b[0m \u001b[0mclose\u001b[0m\u001b[1;33m(\u001b[0m\u001b[0mself\u001b[0m\u001b[1;33m)\u001b[0m\u001b[1;33m:\u001b[0m\u001b[1;33m\u001b[0m\u001b[1;33m\u001b[0m\u001b[0m\n",
      "\u001b[1;32m~\\Miniconda3\\lib\\site-packages\\pandas\\io\\parsers.py\u001b[0m in \u001b[0;36m_make_engine\u001b[1;34m(self, engine)\u001b[0m\n\u001b[0;32m   1120\u001b[0m     \u001b[1;32mdef\u001b[0m \u001b[0m_make_engine\u001b[0m\u001b[1;33m(\u001b[0m\u001b[0mself\u001b[0m\u001b[1;33m,\u001b[0m \u001b[0mengine\u001b[0m\u001b[1;33m=\u001b[0m\u001b[1;34m'c'\u001b[0m\u001b[1;33m)\u001b[0m\u001b[1;33m:\u001b[0m\u001b[1;33m\u001b[0m\u001b[1;33m\u001b[0m\u001b[0m\n\u001b[0;32m   1121\u001b[0m         \u001b[1;32mif\u001b[0m \u001b[0mengine\u001b[0m \u001b[1;33m==\u001b[0m \u001b[1;34m'c'\u001b[0m\u001b[1;33m:\u001b[0m\u001b[1;33m\u001b[0m\u001b[1;33m\u001b[0m\u001b[0m\n\u001b[1;32m-> 1122\u001b[1;33m             \u001b[0mself\u001b[0m\u001b[1;33m.\u001b[0m\u001b[0m_engine\u001b[0m \u001b[1;33m=\u001b[0m \u001b[0mCParserWrapper\u001b[0m\u001b[1;33m(\u001b[0m\u001b[0mself\u001b[0m\u001b[1;33m.\u001b[0m\u001b[0mf\u001b[0m\u001b[1;33m,\u001b[0m \u001b[1;33m**\u001b[0m\u001b[0mself\u001b[0m\u001b[1;33m.\u001b[0m\u001b[0moptions\u001b[0m\u001b[1;33m)\u001b[0m\u001b[1;33m\u001b[0m\u001b[1;33m\u001b[0m\u001b[0m\n\u001b[0m\u001b[0;32m   1123\u001b[0m         \u001b[1;32melse\u001b[0m\u001b[1;33m:\u001b[0m\u001b[1;33m\u001b[0m\u001b[1;33m\u001b[0m\u001b[0m\n\u001b[0;32m   1124\u001b[0m             \u001b[1;32mif\u001b[0m \u001b[0mengine\u001b[0m \u001b[1;33m==\u001b[0m \u001b[1;34m'python'\u001b[0m\u001b[1;33m:\u001b[0m\u001b[1;33m\u001b[0m\u001b[1;33m\u001b[0m\u001b[0m\n",
      "\u001b[1;32m~\\Miniconda3\\lib\\site-packages\\pandas\\io\\parsers.py\u001b[0m in \u001b[0;36m__init__\u001b[1;34m(self, src, **kwds)\u001b[0m\n\u001b[0;32m   1851\u001b[0m         \u001b[0mkwds\u001b[0m\u001b[1;33m[\u001b[0m\u001b[1;34m'usecols'\u001b[0m\u001b[1;33m]\u001b[0m \u001b[1;33m=\u001b[0m \u001b[0mself\u001b[0m\u001b[1;33m.\u001b[0m\u001b[0musecols\u001b[0m\u001b[1;33m\u001b[0m\u001b[1;33m\u001b[0m\u001b[0m\n\u001b[0;32m   1852\u001b[0m \u001b[1;33m\u001b[0m\u001b[0m\n\u001b[1;32m-> 1853\u001b[1;33m         \u001b[0mself\u001b[0m\u001b[1;33m.\u001b[0m\u001b[0m_reader\u001b[0m \u001b[1;33m=\u001b[0m \u001b[0mparsers\u001b[0m\u001b[1;33m.\u001b[0m\u001b[0mTextReader\u001b[0m\u001b[1;33m(\u001b[0m\u001b[0msrc\u001b[0m\u001b[1;33m,\u001b[0m \u001b[1;33m**\u001b[0m\u001b[0mkwds\u001b[0m\u001b[1;33m)\u001b[0m\u001b[1;33m\u001b[0m\u001b[1;33m\u001b[0m\u001b[0m\n\u001b[0m\u001b[0;32m   1854\u001b[0m         \u001b[0mself\u001b[0m\u001b[1;33m.\u001b[0m\u001b[0munnamed_cols\u001b[0m \u001b[1;33m=\u001b[0m \u001b[0mself\u001b[0m\u001b[1;33m.\u001b[0m\u001b[0m_reader\u001b[0m\u001b[1;33m.\u001b[0m\u001b[0munnamed_cols\u001b[0m\u001b[1;33m\u001b[0m\u001b[1;33m\u001b[0m\u001b[0m\n\u001b[0;32m   1855\u001b[0m \u001b[1;33m\u001b[0m\u001b[0m\n",
      "\u001b[1;32mpandas\\_libs\\parsers.pyx\u001b[0m in \u001b[0;36mpandas._libs.parsers.TextReader.__cinit__\u001b[1;34m()\u001b[0m\n",
      "\u001b[1;32mpandas\\_libs\\parsers.pyx\u001b[0m in \u001b[0;36mpandas._libs.parsers.TextReader._setup_parser_source\u001b[1;34m()\u001b[0m\n",
      "\u001b[1;31mFileNotFoundError\u001b[0m: [Errno 2] File b'hedge_weights_return_equal_absolute_lowvol_weekly.csv' does not exist: b'hedge_weights_return_equal_absolute_lowvol_weekly.csv'"
     ]
    }
   ],
   "source": [
    "#mwu\n",
    "\n",
    "for a in ['lowvol','highvol']:\n",
    "    for b in ['weekly','daily','hourly']:\n",
    "        for c in ['absolute','pricerel']:\n",
    "            for d in ['equal','marketcap']:\n",
    "                portfolio =pd.read_csv(f'hedge_weights_return_{d}_{c}_{a}_{b}.csv',index_col=0)\n",
    "                T=len(portfolio)\n",
    "                daily_returns = [(portfolio['Values'].iloc[i+1]/portfolio['Values'].iloc[i] -1) for i in range(T-1)]\n",
    "                returns = portfolio['Values'].iloc[-1]/portfolio['Values'].iloc[0] -1\n",
    "                #mwudict[a+b+c+d] = [returns,round(np.std(daily_returns,ddof=1),4)]\n",
    "                #print(a,b,c,d,round(np.std(daily_returns,ddof=1),4))\n",
    "                print(round(np.std(daily_returns,ddof=1),4))\n"
   ]
  },
  {
   "cell_type": "code",
   "execution_count": null,
   "metadata": {},
   "outputs": [],
   "source": [
    "#rwma\n",
    "for a in ['lowvol','highvol']:\n",
    "    for b in ['weekly','daily','hourly']:\n",
    "        for c in ['absolute']:\n",
    "            for d in ['equal','marketcap']:\n",
    "                portfolio =pd.read_csv(f'rwma_weights_return_{d}_{c}_{a}_{b}.csv',index_col=0)\n",
    "                T=len(portfolio)\n",
    "                daily_returns = [(portfolio['Values'].iloc[i+1]/portfolio['Values'].iloc[i] -1) for i in range(T-1)]\n",
    "                #print(a,b,c,d,round(np.std(daily_returns,ddof=1),4))\n",
    "                print(round(np.std(daily_returns,ddof=1),4))"
   ]
  },
  {
   "cell_type": "code",
   "execution_count": null,
   "metadata": {},
   "outputs": [],
   "source": [
    "#market\n",
    "portfolio = pd.read_excel('market_daily.xlsx')[::-1]\n",
    "T=len(portfolio)\n",
    "daily_returns = [(portfolio['SPX_open'].iloc[i+1]/portfolio['SPX_open'].iloc[i] -1) for i in range(T-1)]\n",
    "#returns = portfolio['SPX'].iloc[-1]/portfolio['SPX'].iloc[0] -1\n",
    "                #mwudict[a+b+c+d] = [returns,round(np.std(daily_returns,ddof=1),4)]\n",
    "                #print(a,b,c,d,round(np.std(daily_returns,ddof=1),4))\n",
    "print(round(np.std(daily_returns,ddof=1),4))\n",
    "print((portfolio['SPX_open'].iloc[-1]/portfolio['SPX_open'].iloc[0] -1))\n",
    "print((portfolio['SPX_open'].iloc[-1]/portfolio['SPX_open'].iloc[0] -1)/np.std(daily_returns,ddof=1))"
   ]
  },
  {
   "cell_type": "code",
   "execution_count": null,
   "metadata": {},
   "outputs": [],
   "source": [
    "#Visualize\n",
    "import matplotlib.pyplot as plt"
   ]
  },
  {
   "cell_type": "code",
   "execution_count": null,
   "metadata": {
    "scrolled": true
   },
   "outputs": [],
   "source": [
    "data = pd.read_csv('fulldata.csv')\n",
    "portfolio = pd.read_excel('market_daily.xlsx')[::-1]\n",
    "T=len(portfolio)\n",
    "daily_returns = [(portfolio['SPX_open'].iloc[i+1]/portfolio['SPX_open'].iloc[i] -1) for i in range(T-1)]\n",
    "data"
   ]
  },
  {
   "cell_type": "code",
   "execution_count": null,
   "metadata": {},
   "outputs": [],
   "source": [
    "fig,ax = plt.subplots()\n",
    "colors = ['blue','orange','pink']\n",
    "for i,val in enumerate(['MWU','RWMA','Hedge']):\n",
    "    x = data['Volatility'][data['Algorithm']==val]\n",
    "    y = data['Return above market'][data['Algorithm']==val]\n",
    "    ax.scatter(x,y,c=colors[i],alpha=0.7,label=val)\n",
    "\n",
    "ax.scatter(np.std(daily_returns,ddof=1),0,c='white',label='Market',alpha=1,edgecolor='black')\n",
    "\n",
    "ax.legend()\n",
    "ax.set_title('Return vs. Volatility')\n",
    "ax.set_xlabel('Volatility')\n",
    "ax.set_ylabel('Return above market')\n",
    "ax.axhline(y=0)\n",
    "#ax.spines['bottom'].set_position('zero')"
   ]
  },
  {
   "cell_type": "code",
   "execution_count": null,
   "metadata": {},
   "outputs": [],
   "source": [
    "fig,ax = plt.subplots()\n",
    "colors = ['blue','gray','green']\n",
    "for i,val in enumerate(['Daily','Weekly','Hourly']):\n",
    "    x = data['Volatility'][data['Time Period']==val]\n",
    "    y = data['Return above market'][data['Time Period']==val]\n",
    "    ax.scatter(x,y,c=colors[i],label=val)\n",
    "\n",
    "ax.scatter(np.std(daily_returns,ddof=1),0,c='white',label='Market Daily',edgecolor='black',alpha=1)\n",
    "\n",
    "ax.legend()\n",
    "ax.set_title('Return vs. Volatility')\n",
    "ax.set_xlabel('Volatility')\n",
    "ax.set_ylabel('Return above market')\n",
    "ax.axhline(y=0)\n",
    "#ax.spines['bottom'].set_position('zero')"
   ]
  },
  {
   "cell_type": "code",
   "execution_count": null,
   "metadata": {},
   "outputs": [],
   "source": [
    "fig,ax = plt.subplots()\n",
    "colors = ['#bc5090','#003f5c']\n",
    "for i,val in enumerate(['Equal weights','Market cap']):\n",
    "    x = data['Volatility'][data['Weight Method']==val]\n",
    "    y = data['Return above market'][data['Weight Method']==val]\n",
    "    ax.scatter(x,y,c=colors[i],label=val)\n",
    "\n",
    "ax.scatter(np.std(daily_returns,ddof=1),0,c='white',label='Market',edgecolor='black')\n",
    "\n",
    "ax.legend()\n",
    "ax.set_title('Return vs. Volatility')\n",
    "ax.set_xlabel('Volatility')\n",
    "ax.set_ylabel('Return above market')\n",
    "ax.axhline(y=0)\n",
    "#ax.spines['bottom'].set_position('zero')"
   ]
  },
  {
   "cell_type": "code",
   "execution_count": null,
   "metadata": {},
   "outputs": [],
   "source": [
    "fig,ax = plt.subplots()\n",
    "colors = ['#0d9365','#ffa600']\n",
    "for i,val in enumerate(['Absolute return','Price relative']):\n",
    "    x = data['Volatility'][data['Loss Method']==val]\n",
    "    y = data['Return above market'][data['Loss Method']==val]\n",
    "    ax.scatter(x,y,c=colors[i],label=val)\n",
    "\n",
    "ax.scatter(np.std(daily_returns,ddof=1),0,c='white',label='Market',edgecolor='black')    \n",
    "\n",
    "ax.legend()\n",
    "ax.set_title('Return vs. Volatility')\n",
    "ax.set_xlabel('Volatility')\n",
    "ax.set_ylabel('Return above market')\n",
    "ax.axhline(y=0)\n",
    "#ax.spines['bottom'].set_position('zero')"
   ]
  },
  {
   "cell_type": "code",
   "execution_count": null,
   "metadata": {},
   "outputs": [],
   "source": [
    "fig,ax = plt.subplots()\n",
    "colors = ['blue','black']\n",
    "for i,val in enumerate(['Low','High']):\n",
    "    x = data['Volatility'][data['Portfolio']==val]\n",
    "    y = data['Return above market'][data['Portfolio']==val]\n",
    "    ax.scatter(x,y,c=colors[i],label=val+' Vol Portfolio')\n",
    "\n",
    "ax.scatter(np.std(daily_returns,ddof=1),0,c='white',label='Market',edgecolor='black')\n",
    "    \n",
    "ax.legend()\n",
    "ax.set_title('Return vs. Volatility')\n",
    "ax.set_xlabel('Volatility')\n",
    "ax.set_ylabel('Return above market')\n",
    "ax.axhline(y=0)\n",
    "#ax.spines['bottom'].set_position('zero')"
   ]
  },
  {
   "cell_type": "code",
   "execution_count": null,
   "metadata": {},
   "outputs": [],
   "source": [
    "#Hourly\n",
    "portfolio = pd.read_excel('market_hourly.xlsx')[::-1]\n",
    "T=len(portfolio)\n",
    "daily_returns = [(portfolio['SPX_open'].iloc[i+1]/portfolio['SPX_open'].iloc[i] -1) for i in range(T-1)]"
   ]
  },
  {
   "cell_type": "code",
   "execution_count": null,
   "metadata": {},
   "outputs": [],
   "source": [
    "fig,ax = plt.subplots()\n",
    "colors = ['pink','purple']\n",
    "for i,val in enumerate(['Equal weights','Market cap']):\n",
    "    x = data['Volatility'][data['Weight Method']==val][data['Time Period']=='Hourly']\n",
    "    y = data['Return above market'][data['Weight Method']==val][data['Time Period']=='Hourly']\n",
    "    ax.scatter(x,y,c=colors[i],label=val)\n",
    "\n",
    "ax.scatter(np.std(daily_returns,ddof=1),0,c='white',label='Market',edgecolor='black')    \n",
    "    \n",
    "ax.legend()\n",
    "ax.set_title('Return vs. Volatility: Hourly')\n",
    "ax.set_xlabel('Volatility')\n",
    "ax.set_ylabel('Return above market')\n",
    "ax.axhline(y=0)\n",
    "#ax.spines['bottom'].set_position('zero')"
   ]
  },
  {
   "cell_type": "code",
   "execution_count": null,
   "metadata": {},
   "outputs": [],
   "source": [
    "fig,ax = plt.subplots()\n",
    "colors = ['brown','green','gray']\n",
    "for i,val in enumerate(['MWU','RWMA','Hedge']):\n",
    "    x = data['Volatility'][data['Algorithm']==val][data['Time Period']=='Hourly']\n",
    "    y = data['Return above market'][data['Algorithm']==val][data['Time Period']=='Hourly']\n",
    "    ax.scatter(x,y,c=colors[i],label=val)\n",
    "\n",
    "ax.scatter(np.std(daily_returns,ddof=1),0,c='white',label='Market',edgecolor='black')    \n",
    "    \n",
    "ax.legend()\n",
    "ax.set_title('Return vs. Volatility: Hourly')\n",
    "ax.set_xlabel('Volatility')\n",
    "ax.set_ylabel('Return above market')\n",
    "ax.axhline(y=0)\n",
    "#ax.spines['bottom'].set_position('zero')"
   ]
  },
  {
   "cell_type": "markdown",
   "metadata": {},
   "source": [
    "Portfolio over time"
   ]
  },
  {
   "cell_type": "code",
   "execution_count": null,
   "metadata": {},
   "outputs": [],
   "source": [
    "portfolio =pd.read_csv('mwu_weights_return_marketcap_absolute_highvol_daily.csv',usecols=['Values'])\n",
    "market = pd.read_excel('market_daily.xlsx')[::-1]\n",
    "market = market['SPX_open'].values\n",
    "portfolio=portfolio.iloc[-len(market):].values\n",
    "market = market[-len(portfolio):]\n",
    "portfolio"
   ]
  },
  {
   "cell_type": "code",
   "execution_count": null,
   "metadata": {},
   "outputs": [],
   "source": [
    "quantity = portfolio[0]/market[0]\n",
    "market_10 = market*quantity"
   ]
  },
  {
   "cell_type": "code",
   "execution_count": null,
   "metadata": {},
   "outputs": [],
   "source": [
    "plt.plot(portfolio,label='Algorithm')\n",
    "plt.plot(market_10,label='Market')\n",
    "plt.title('High Vol Daily MWU Marketcap Absolute vs. SPX')\n",
    "plt.xlabel('Time')\n",
    "plt.ylabel('Value')\n",
    "plt.legend()"
   ]
  },
  {
   "cell_type": "code",
   "execution_count": null,
   "metadata": {},
   "outputs": [],
   "source": [
    "portfolio = pd.read_csv('value-txn.csv')\n",
    "portfolio=portfolio.iloc[:len(market)].values"
   ]
  },
  {
   "cell_type": "code",
   "execution_count": null,
   "metadata": {},
   "outputs": [],
   "source": [
    "fig,ax=plt.subplots()\n",
    "ax.plot(portfolio)\n",
    "ax.plot(market_10)\n",
    "ax.set_title('High Vol Daily MWU Equal Absolute vs. SPX')"
   ]
  },
  {
   "cell_type": "code",
   "execution_count": null,
   "metadata": {},
   "outputs": [],
   "source": [
    "portfolio"
   ]
  }
 ],
 "metadata": {
  "kernelspec": {
   "display_name": "Python 3",
   "language": "python",
   "name": "python3"
  },
  "language_info": {
   "codemirror_mode": {
    "name": "ipython",
    "version": 3
   },
   "file_extension": ".py",
   "mimetype": "text/x-python",
   "name": "python",
   "nbconvert_exporter": "python",
   "pygments_lexer": "ipython3",
   "version": "3.7.1"
  }
 },
 "nbformat": 4,
 "nbformat_minor": 2
}
