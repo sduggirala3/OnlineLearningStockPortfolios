{
 "cells": [
  {
   "cell_type": "code",
   "execution_count": 1,
   "metadata": {},
   "outputs": [],
   "source": [
    "import numpy as np\n",
    "import random\n",
    "import pandas as pd"
   ]
  },
  {
   "cell_type": "code",
   "execution_count": 4,
   "metadata": {},
   "outputs": [],
   "source": [
    "def weight_init(method, N, tickers):\n",
    "    if method == 'equal':\n",
    "        w = np.ones(N)\n",
    "        \n",
    "    elif method == 'marketcap':\n",
    "        for w in tickers:\n",
    "            try:\n",
    "                w += [int(caps[w])]\n",
    "                \n",
    "            except KeyError:\n",
    "                w += [0] \n",
    "                # weight to 0 if not found b/c first \"ticker\" = 'Unnamed: 0' and didn't want to change code \n",
    "                \n",
    "        return np.array(w).astype('int64')"
   ]
  },
  {
   "cell_type": "code",
   "execution_count": 2,
   "metadata": {},
   "outputs": [],
   "source": [
    "def hedge(data):\n",
    "    #data is an N by T array with returns for each expert/stock i in time t forming a row\n",
    "    T = len(data) # number of stocks\n",
    "    N = len(data.columns)\n",
    "    tickers = \n",
    "    epsilon = np.sqrt(np.log(N)/T)\n",
    "    M = 1\n",
    "    w = weight_init(method, N, tickers)\n",
    "    for t in range(T): \n",
    "        #positive return is negative loss to increase weight\n",
    "        loss = -1*data.iloc[t]/M\n",
    "        #update\n",
    "        for i in range(N):\n",
    "             w[i] = w[i]*(np.exp(-1*epsilon*float(loss[i])))   \n",
    "    p = w/sum(w)\n",
    "    return p"
   ]
  },
  {
   "cell_type": "code",
   "execution_count": 3,
   "metadata": {},
   "outputs": [
    {
     "data": {
      "text/plain": [
       "{'XOM': 0.02832,\n",
       " 'SBUX': 0.02887,\n",
       " 'AAPL': 0.02926,\n",
       " 'GOOG': 0.02879,\n",
       " 'PYPL': 0.02869,\n",
       " 'FB': 0.02867,\n",
       " 'NFLX': 0.02831,\n",
       " 'SQ': 0.0295,\n",
       " 'MSFT': 0.02842,\n",
       " 'IBM': 0.02835,\n",
       " 'MCD': 0.02852,\n",
       " 'AMZN': 0.02779,\n",
       " 'NKE': 0.02856,\n",
       " 'TSLA': 0.02876,\n",
       " 'EL': 0.02869,\n",
       " 'CSCO': 0.02846,\n",
       " 'WMT': 0.02925,\n",
       " 'KO': 0.02873,\n",
       " 'PM': 0.02861,\n",
       " 'PG': 0.02909,\n",
       " 'PEP': 0.02866,\n",
       " 'GS': 0.02809,\n",
       " 'BAC': 0.0283,\n",
       " 'JPM': 0.02872,\n",
       " 'BLK': 0.0281,\n",
       " 'ICE': 0.02849,\n",
       " 'SO': 0.02948,\n",
       " 'PBR': 0.02736,\n",
       " 'RUN': 0.02955,\n",
       " 'MRO': 0.02678,\n",
       " 'PFE': 0.02852,\n",
       " 'ANTM': 0.02904,\n",
       " 'CI': 0.02834,\n",
       " 'HUM': 0.02847,\n",
       " 'JNJ': 0.02844}"
      ]
     },
     "execution_count": 3,
     "metadata": {},
     "output_type": "execute_result"
    }
   ],
   "source": [
    "data = pd.read_excel('trading_data.xlsx', index_col=0)\n",
    "# data\n",
    "x=hedge(data)\n",
    "out_dict = {data.columns[i]:round(x[i],5) for i in range(len(data.columns))}\n",
    "out_dict"
   ]
  },
  {
   "cell_type": "code",
   "execution_count": null,
   "metadata": {},
   "outputs": [],
   "source": []
  }
 ],
 "metadata": {
  "kernelspec": {
   "display_name": "Python 3",
   "language": "python",
   "name": "python3"
  },
  "language_info": {
   "codemirror_mode": {
    "name": "ipython",
    "version": 3
   },
   "file_extension": ".py",
   "mimetype": "text/x-python",
   "name": "python",
   "nbconvert_exporter": "python",
   "pygments_lexer": "ipython3",
   "version": "3.6.8"
  }
 },
 "nbformat": 4,
 "nbformat_minor": 2
}
