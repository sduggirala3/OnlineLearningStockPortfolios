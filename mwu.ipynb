{
 "cells": [
  {
   "cell_type": "code",
   "execution_count": 2,
   "metadata": {},
   "outputs": [],
   "source": [
    "import numpy as np\n",
    "import pandas as pd"
   ]
  },
  {
   "cell_type": "code",
   "execution_count": 3,
   "metadata": {},
   "outputs": [],
   "source": [
    "def mwu(data):\n",
    "    #data = np.array(data)\n",
    "    #data is a T by N matrix with each row being the returns of each expert i at time t\n",
    "    T = len(data)\n",
    "    N = len(data.columns)\n",
    "    epsilon = np.sqrt(np.log(N)/T) # is this correct\n",
    "    #find bounds for loss\n",
    "    M = 1\n",
    "    w = np.ones(N)\n",
    "    #iterations\n",
    "    for t in range(T):\n",
    "        #losses\n",
    "        loss = -1*data.iloc[t]/M #positive return is negative loss to increase weight\n",
    "        #update\n",
    "        for i in range(N):\n",
    "            w[i] = w[i]*(1-epsilon*loss[i])\n",
    "        \n",
    "    p = w/sum(w)\n",
    "    return p"
   ]
  },
  {
   "cell_type": "code",
   "execution_count": 4,
   "metadata": {},
   "outputs": [
    {
     "data": {
      "text/plain": [
       "array([0.02913591, 0.02708444, 0.02888925, 0.02931947, 0.02715708,\n",
       "       0.02862985, 0.02952168, 0.02857607, 0.02837603, 0.02877581,\n",
       "       0.02776614, 0.02958612, 0.027136  , 0.03016261, 0.02860727,\n",
       "       0.02843283, 0.02834504, 0.0280177 , 0.02908842, 0.02790144,\n",
       "       0.02816426, 0.02885205, 0.02879602, 0.02877013, 0.02936607,\n",
       "       0.02770713, 0.02853586, 0.02915484, 0.02756943, 0.02905889,\n",
       "       0.02832539, 0.02960555, 0.02927283, 0.02854184, 0.02777056])"
      ]
     },
     "execution_count": 4,
     "metadata": {},
     "output_type": "execute_result"
    }
   ],
   "source": [
    "data = pd.read_excel('trading_data.xlsx')\n",
    "mwu(data)"
   ]
  },
  {
   "cell_type": "code",
   "execution_count": 5,
   "metadata": {},
   "outputs": [
    {
     "data": {
      "text/plain": [
       "997"
      ]
     },
     "execution_count": 5,
     "metadata": {},
     "output_type": "execute_result"
    }
   ],
   "source": []
  },
  {
   "cell_type": "code",
   "execution_count": 7,
   "metadata": {},
   "outputs": [
    {
     "data": {
      "text/plain": [
       "35"
      ]
     },
     "execution_count": 7,
     "metadata": {},
     "output_type": "execute_result"
    }
   ],
   "source": []
  },
  {
   "cell_type": "code",
   "execution_count": null,
   "metadata": {},
   "outputs": [],
   "source": []
  }
 ],
 "metadata": {
  "kernelspec": {
   "display_name": "Python 3",
   "language": "python",
   "name": "python3"
  },
  "language_info": {
   "codemirror_mode": {
    "name": "ipython",
    "version": 3
   },
   "file_extension": ".py",
   "mimetype": "text/x-python",
   "name": "python",
   "nbconvert_exporter": "python",
   "pygments_lexer": "ipython3",
   "version": "3.7.1"
  }
 },
 "nbformat": 4,
 "nbformat_minor": 2
}
