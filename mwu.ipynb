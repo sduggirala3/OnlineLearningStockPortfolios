{
 "cells": [
  {
   "cell_type": "code",
   "execution_count": 12,
   "metadata": {},
   "outputs": [],
   "source": [
    "import numpy as np"
   ]
  },
  {
   "cell_type": "code",
   "execution_count": 13,
   "metadata": {},
   "outputs": [],
   "source": [
    "def mwu(data):\n",
    "    data = np.array(data)\n",
    "    #data is a T by N matrix with each row being the returns of each expert i at time t\n",
    "    T = len(data)\n",
    "    N = len(data[0])\n",
    "    epsilon = np.sqrt(np.log(N)/T) # is this correct\n",
    "    #find bounds for loss\n",
    "    M = max(np.max(data),-1*np.min(data))\n",
    "    w = np.ones(N)\n",
    "    #iterations\n",
    "    for t in range(T):\n",
    "        #losses\n",
    "        loss = -1*data[t]/M #positive return is negative loss to increase weight\n",
    "        #update\n",
    "        for i in range(N):\n",
    "            w[i] = w[i]*(1-epsilon*loss[i])\n",
    "        \n",
    "    p = w/sum(w)\n",
    "    return p"
   ]
  },
  {
   "cell_type": "code",
   "execution_count": 15,
   "metadata": {},
   "outputs": [
    {
     "data": {
      "text/plain": [
       "array([0.25      , 0.30685323, 0.02258706, 0.4205597 ])"
      ]
     },
     "execution_count": 15,
     "metadata": {},
     "output_type": "execute_result"
    }
   ],
   "source": []
  },
  {
   "cell_type": "code",
   "execution_count": null,
   "metadata": {},
   "outputs": [],
   "source": []
  }
 ],
 "metadata": {
  "kernelspec": {
   "display_name": "Python 3",
   "language": "python",
   "name": "python3"
  },
  "language_info": {
   "codemirror_mode": {
    "name": "ipython",
    "version": 3
   },
   "file_extension": ".py",
   "mimetype": "text/x-python",
   "name": "python",
   "nbconvert_exporter": "python",
   "pygments_lexer": "ipython3",
   "version": "3.7.1"
  }
 },
 "nbformat": 4,
 "nbformat_minor": 2
}
