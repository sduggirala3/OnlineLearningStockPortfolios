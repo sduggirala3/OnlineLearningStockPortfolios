{
 "cells": [
  {
   "cell_type": "code",
   "execution_count": 1,
   "metadata": {},
   "outputs": [],
   "source": [
    "import numpy as np\n",
    "import random"
   ]
  },
  {
   "cell_type": "code",
   "execution_count": null,
   "metadata": {},
   "outputs": [],
   "source": [
    "def hedge(data):\n",
    "    #data is an N by T array with returns for each expert/stock i in time t forming a row\n",
    "    data = np.array(data)\n",
    "    N = len(data[0]) # number of stocks\n",
    "    T = len(data)\n",
    "    eps = np.sqrt(np.log(N)/T)\n",
    "    M = max(np.max(data),-1*np.min(data))\n",
    "    w = np.ones(N)\n",
    "    for t in range(T):\n",
    "        #losses\n",
    "        loss = -1*data[t]/M #positive return is negative loss to increase weight\n",
    "        #update\n",
    "        for i in range(N):\n",
    "            w[i] = w[i]*(np.exp(-1*epsilon*loss[i]))   \n",
    "    return w"
   ]
  }
 ],
 "metadata": {
  "kernelspec": {
   "display_name": "Python 3",
   "language": "python",
   "name": "python3"
  },
  "language_info": {
   "codemirror_mode": {
    "name": "ipython",
    "version": 3
   },
   "file_extension": ".py",
   "mimetype": "text/x-python",
   "name": "python",
   "nbconvert_exporter": "python",
   "pygments_lexer": "ipython3",
   "version": "3.7.4"
  }
 },
 "nbformat": 4,
 "nbformat_minor": 2
}
