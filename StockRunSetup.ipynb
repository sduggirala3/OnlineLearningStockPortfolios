{
 "cells": [
  {
   "cell_type": "code",
   "execution_count": 1,
   "metadata": {},
   "outputs": [],
   "source": [
    "import json\n",
    "import urllib\n",
    "import statistics\n",
    "import pandas as pd"
   ]
  },
  {
   "cell_type": "code",
   "execution_count": 26,
   "metadata": {},
   "outputs": [],
   "source": [
    "# assets\n",
    "# tech = ['AAPL', 'GOOG', 'PYPL', 'FB', 'NFLX']\n",
    "# consumer discretionary = ['SBUX', 'MCD', 'AMZN', 'NKE', 'TSLA' ]\n",
    "# consumer staple = ['WMT', 'BYND', 'KO', 'PM', 'EL']\n",
    "# financial = ['GS', 'BAC', 'JPM', 'BLK', 'ICE']\n",
    "# ETFs = ['VEIEX', 'SPY', 'EEM', 'GLD', 'DIA']\n",
    "# energy = ['XOM', 'RYDAF', 'SO', 'PBR', 'RUN']\n",
    "# healthcare = ['PFE', 'ANTM', 'CI', 'HUM', 'JNJ']\n",
    "\n",
    "API_key = 'GS7RDLAEI1X9K12B'\n",
    "\n",
    "# list of assets to weight in the portfolios\n",
    "ticker_list = ['VEIEX', 'SBUX']\n",
    "\n",
    "start_date_wma = '2019-01-02'\n",
    "end_date_wma = '2019-07-31'\n",
    "\n",
    "start_date_ts = '2019-08-01'\n",
    "end_date_ts = '2019-10-23' #change these times for whenever we run it"
   ]
  },
  {
   "cell_type": "code",
   "execution_count": 27,
   "metadata": {},
   "outputs": [
    {
     "name": "stdout",
     "output_type": "stream",
     "text": [
      "{'VEIEX':                open     high      low    close adj_close volume div_amt  \\\n",
      "2019-10-23  26.4200  26.4200  26.4200  26.4200   26.4200      0  0.0000   \n",
      "2019-10-22  26.4100  26.4100  26.4100  26.4100   26.4100      0  0.0000   \n",
      "2019-10-21  26.3700  26.3700  26.3700  26.3700   26.3700      0  0.0000   \n",
      "2019-10-18  26.2300  26.2300  26.2300  26.2300   26.2300      0  0.0000   \n",
      "2019-10-17  26.3200  26.3200  26.3200  26.3200   26.3200      0  0.0000   \n",
      "...             ...      ...      ...      ...       ...    ...     ...   \n",
      "1999-10-29  10.3400  10.3400  10.3400  10.3400    5.5081      0  0.0000   \n",
      "1999-10-28  10.1500  10.1500  10.1500  10.1500    5.4069      0  0.0000   \n",
      "1999-10-27  10.0300  10.0300  10.0300  10.0300    5.3430      0  0.0000   \n",
      "1999-10-26  10.1000  10.1000  10.1000  10.1000    5.3803      0  0.0000   \n",
      "1999-10-25  10.1200  10.1200  10.1200  10.1200    5.3909      0  0.0000   \n",
      "\n",
      "           split_coef  \n",
      "2019-10-23     1.0000  \n",
      "2019-10-22     1.0000  \n",
      "2019-10-21     1.0000  \n",
      "2019-10-18     1.0000  \n",
      "2019-10-17     1.0000  \n",
      "...               ...  \n",
      "1999-10-29     1.0000  \n",
      "1999-10-28     1.0000  \n",
      "1999-10-27     1.0000  \n",
      "1999-10-26     1.0000  \n",
      "1999-10-25     1.0000  \n",
      "\n",
      "[5032 rows x 8 columns], 'SBUX':                open     high      low    close adj_close    volume div_amt  \\\n",
      "2019-10-24  82.8000  83.5300  82.6605  83.2900   83.2900   2019918  0.0000   \n",
      "2019-10-23  84.3100  84.4100  82.1300  82.7400   82.7400   7186615  0.0000   \n",
      "2019-10-22  85.2300  85.3500  83.3900  83.4600   83.4600   5767500  0.0000   \n",
      "2019-10-21  86.0000  86.2400  85.0800  85.3500   85.3500   4861200  0.0000   \n",
      "2019-10-18  86.3500  86.7500  85.5200  86.0300   86.0300   4631200  0.0000   \n",
      "...             ...      ...      ...      ...       ...       ...     ...   \n",
      "1999-10-29  26.1880  27.6250  25.8750  27.1880    2.9136  50058400  0.0000   \n",
      "1999-10-28  25.0000  26.0630  24.9380  26.0000    2.7863  30860000  0.0000   \n",
      "1999-10-27  24.4380  25.2500  24.0630  24.8750    2.6657  26791200  0.0000   \n",
      "1999-10-26  23.9380  24.5000  23.7500  24.4380    2.6189  20453600  0.0000   \n",
      "1999-10-25  23.5630  24.2030  23.2500  23.8130    2.5519  15472800  0.0000   \n",
      "\n",
      "           split_coef  \n",
      "2019-10-24     1.0000  \n",
      "2019-10-23     1.0000  \n",
      "2019-10-22     1.0000  \n",
      "2019-10-21     1.0000  \n",
      "2019-10-18     1.0000  \n",
      "...               ...  \n",
      "1999-10-29     1.0000  \n",
      "1999-10-28     1.0000  \n",
      "1999-10-27     1.0000  \n",
      "1999-10-26     1.0000  \n",
      "1999-10-25     1.0000  \n",
      "\n",
      "[5033 rows x 8 columns]}\n"
     ]
    }
   ],
   "source": [
    "total_asset_data = {}    #{ticker: df}\n",
    "\n",
    "for ticker in ticker_list:\n",
    "    url = 'https://www.alphavantage.co/query?function=TIME_SERIES_DAILY_ADJUSTED&symbol=' + ticker + '&outputsize=full&apikey=' + API_key\n",
    "    data = json.load(urllib.request.urlopen(url))\n",
    "\n",
    "    # put data pulled from API into dataframe\n",
    "    trading_data = pd.DataFrame.from_dict(data['Time Series (Daily)'], orient='index')\n",
    "    trading_data = trading_data.rename(columns={'1. open': 'open', '2. high': 'high', '3. low':'low', '4. close':'close', \n",
    "                                                   '5. adjusted close':'adj_close', '6. volume': 'volume', \n",
    "                                                   '7. dividend amount':'div_amt', '8. split coefficient':'split_coef'})\n",
    "\n",
    "    # put in dictionary with full data\n",
    "    total_asset_data[ticker] = trading_data\n",
    "    \n",
    "del trading_data\n",
    "\n",
    "total_asset_data"
   ]
  },
  {
   "cell_type": "code",
   "execution_count": null,
   "metadata": {},
   "outputs": [],
   "source": []
  }
 ],
 "metadata": {
  "kernelspec": {
   "display_name": "Python 3",
   "language": "python",
   "name": "python3"
  },
  "language_info": {
   "codemirror_mode": {
    "name": "ipython",
    "version": 3
   },
   "file_extension": ".py",
   "mimetype": "text/x-python",
   "name": "python",
   "nbconvert_exporter": "python",
   "pygments_lexer": "ipython3",
   "version": "3.7.2"
  }
 },
 "nbformat": 4,
 "nbformat_minor": 2
}
