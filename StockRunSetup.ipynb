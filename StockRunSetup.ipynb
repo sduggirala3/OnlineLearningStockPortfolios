{
 "cells": [
  {
   "cell_type": "code",
   "execution_count": 2,
   "metadata": {},
   "outputs": [],
   "source": [
    "import json\n",
    "import urllib\n",
    "import statistics\n",
    "import pandas as pd"
   ]
  },
  {
   "cell_type": "code",
   "execution_count": 3,
   "metadata": {},
   "outputs": [],
   "source": [
    "# assets\n",
    "# tech = ['AAPL', 'GOOG', 'PYPL', 'FB', 'NFLX', 'SQ', 'MSFT', 'IBM']\n",
    "# consumer discretionary = ['SBUX', 'MCD', 'AMZN', 'NKE', 'TSLA', 'EL']\n",
    "# telecom = ['ATT', 'VZW', 'TWX', 'CSCO']\n",
    "# consumer staple = ['WMT', 'BYND', 'KO', 'PM', 'PG', 'PEP']\n",
    "# financial = ['GS', 'BAC', 'JPM', 'BLK', 'ICE']\n",
    "# energy = ['XOM', 'RYDAF', 'SO', 'PBR', 'RUN', 'MRO']\n",
    "# healthcare = ['PFE', 'ANTM', 'CI', 'HUM', 'JNJ']\n",
    "\n",
    "API_key = 'GS7RDLAEI1X9K12B'\n",
    "\n",
    "# list of assets to weight in the portfolios\n",
    "ticker_list = ['XOM', 'SBUX']\n",
    "\n",
    "start_date_wma = '2019-01-02'\n",
    "end_date_wma = '2019-07-31'\n",
    "\n",
    "start_date_ts = '2019-08-01'\n",
    "end_date_ts = '2019-10-23' #change these times for whenever we run it"
   ]
  },
  {
   "cell_type": "code",
   "execution_count": 11,
   "metadata": {},
   "outputs": [
    {
     "data": {
      "text/plain": [
       "{'XOM': 2019-11-05    0.014089\n",
       " 2019-11-04    0.022834\n",
       " 2019-11-01    0.017693\n",
       " 2019-10-31    0.001631\n",
       " 2019-10-30   -0.009507\n",
       "                 ...   \n",
       " 1999-11-11    0.009860\n",
       " 1999-11-10    0.004959\n",
       " 1999-11-09    0.005004\n",
       " 1999-11-08    0.046662\n",
       " 1999-11-05   -0.032534\n",
       " Name: return, Length: 5032, dtype: float64, 'SBUX': 2019-11-05   -0.005344\n",
       " 2019-11-04   -0.011164\n",
       " 2019-11-01   -0.018634\n",
       " 2019-10-31   -0.024795\n",
       " 2019-10-30   -0.004964\n",
       "                 ...   \n",
       " 1999-11-11   -0.004396\n",
       " 1999-11-10   -0.017353\n",
       " 1999-11-09    0.006511\n",
       " 1999-11-08    0.006539\n",
       " 1999-11-05    0.024481\n",
       " Name: return, Length: 5032, dtype: float64}"
      ]
     },
     "execution_count": 11,
     "metadata": {},
     "output_type": "execute_result"
    }
   ],
   "source": [
    "total_asset_data = {}    #{ticker: df}\n",
    "\n",
    "for ticker in ticker_list:\n",
    "    url = 'https://www.alphavantage.co/query?function=TIME_SERIES_DAILY_ADJUSTED&symbol=' + ticker + '&outputsize=full&apikey=' + API_key\n",
    "    data = json.load(urllib.request.urlopen(url))\n",
    "\n",
    "    # put data pulled from API into dataframe\n",
    "    trading_data = pd.DataFrame.from_dict(data['Time Series (Daily)'], orient='index')\n",
    "    trading_data = trading_data.rename(columns={'1. open': 'open', '2. high': 'high', '3. low':'low', '4. close':'close', \n",
    "                                                   '5. adjusted close':'adj_close', '6. volume': 'volume', \n",
    "                                                   '7. dividend amount':'div_amt', '8. split coefficient':'split_coef'})\n",
    "\n",
    "    trading_data = trading_data.astype(float)\n",
    "    #trading_data = trading_data['close'].apply(float)\n",
    "    #trading_data = trading_data['open'].apply(float)\n",
    "    trading_data['return'] = (trading_data.close - trading_data.open)/(trading_data.open)\n",
    "\n",
    "    # put in dictionary with full data\n",
    "    total_asset_data[ticker] = trading_data['return']\n",
    "    \n",
    "del trading_data\n",
    "\n",
    "total_asset_data"
   ]
  },
  {
   "cell_type": "code",
   "execution_count": null,
   "metadata": {},
   "outputs": [],
   "source": []
  }
 ],
 "metadata": {
  "kernelspec": {
   "display_name": "Python 3",
   "language": "python",
   "name": "python3"
  },
  "language_info": {
   "codemirror_mode": {
    "name": "ipython",
    "version": 3
   },
   "file_extension": ".py",
   "mimetype": "text/x-python",
   "name": "python",
   "nbconvert_exporter": "python",
   "pygments_lexer": "ipython3",
   "version": "3.7.2"
  }
 },
 "nbformat": 4,
 "nbformat_minor": 2
}
