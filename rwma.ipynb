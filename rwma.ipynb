{
 "cells": [
  {
   "cell_type": "code",
   "execution_count": 13,
   "metadata": {},
   "outputs": [],
   "source": [
    "import numpy as np\n",
    "import pandas as pd\n",
    "#import random"
   ]
  },
  {
   "cell_type": "code",
   "execution_count": 14,
   "metadata": {},
   "outputs": [],
   "source": [
    "def weight_init(experts,method=1):\n",
    "    return np.ones(experts)\n",
    "\n",
    "def losses(data,time,method=1):\n",
    "    return (data.iloc[time]<0).astype(int)"
   ]
  },
  {
   "cell_type": "code",
   "execution_count": 15,
   "metadata": {},
   "outputs": [],
   "source": [
    "def rwma(data):\n",
    "    #data is an N by T array with returns for each expert/stock i in time t forming a row\n",
    "    #data = np.array(data)\n",
    "    #data = totalassetdata\n",
    "    \n",
    "    N = len(data.columns) # number of stocks\n",
    "    T = len(data)\n",
    "    \n",
    "    eps = np.sqrt(np.log(N)/T)\n",
    "    \n",
    "    w = weight_init(N)\n",
    "    #M = np.zeros(N)\n",
    "    #M_wma_random = 0\n",
    "\n",
    "    #allweights = []\n",
    "\n",
    "    # iterations\n",
    "    for t in range(T):\n",
    "               \n",
    "        # reveal outcome, suppose it is random\n",
    "        y = losses(data,t) #find for each expert if return was negative (loss 1)\n",
    "        \n",
    "        #M_wma_random += (x != y) #count number of mistakes\n",
    "\n",
    "        # weight update\n",
    "        for i in range(N):\n",
    "            w[i] = w[i]*(1 - eps)**(y[i]) # penalize weight if made wrong prediction\n",
    "        #M = M + (f != y)\n",
    "    \n",
    "    p = w/sum(w)\n",
    "    \n",
    "    #print(eps,T,N,w)\n",
    "   \n",
    "    return p"
   ]
  },
  {
   "cell_type": "code",
   "execution_count": 16,
   "metadata": {},
   "outputs": [
    {
     "data": {
      "text/plain": [
       "array([0.00326407, 0.01946488, 0.05213265, 0.01720955, 0.01264922,\n",
       "       0.00874213, 0.00155907, 0.06270948, 0.04333975, 0.00392629,\n",
       "       0.0360299 , 0.00392629, 0.00929733, 0.00502281, 0.0264824 ,\n",
       "       0.08022278, 0.04609221, 0.03831812, 0.01830251, 0.09649862,\n",
       "       0.09073607, 0.00444083, 0.01430692, 0.03185523, 0.01345256,\n",
       "       0.02490097, 0.08022278, 0.00255149, 0.03831812, 0.00199448,\n",
       "       0.06270948, 0.01720955, 0.00604185, 0.00988779, 0.01618186])"
      ]
     },
     "execution_count": 16,
     "metadata": {},
     "output_type": "execute_result"
    }
   ],
   "source": [
    "data = pd.read_excel('trading_data.xlsx')\n",
    "(rwma(data))"
   ]
  },
  {
   "cell_type": "code",
   "execution_count": 17,
   "metadata": {},
   "outputs": [
    {
     "data": {
      "text/plain": [
       "{'XOM': 0.00326,\n",
       " 'SBUX': 0.01946,\n",
       " 'AAPL': 0.05213,\n",
       " 'GOOG': 0.01721,\n",
       " 'PYPL': 0.01265,\n",
       " 'FB': 0.00874,\n",
       " 'NFLX': 0.00156,\n",
       " 'SQ': 0.06271,\n",
       " 'MSFT': 0.04334,\n",
       " 'IBM': 0.00393,\n",
       " 'MCD': 0.03603,\n",
       " 'AMZN': 0.00393,\n",
       " 'NKE': 0.0093,\n",
       " 'TSLA': 0.00502,\n",
       " 'EL': 0.02648,\n",
       " 'CSCO': 0.08022,\n",
       " 'WMT': 0.04609,\n",
       " 'KO': 0.03832,\n",
       " 'PM': 0.0183,\n",
       " 'PG': 0.0965,\n",
       " 'PEP': 0.09074,\n",
       " 'GS': 0.00444,\n",
       " 'BAC': 0.01431,\n",
       " 'JPM': 0.03186,\n",
       " 'BLK': 0.01345,\n",
       " 'ICE': 0.0249,\n",
       " 'SO': 0.08022,\n",
       " 'PBR': 0.00255,\n",
       " 'RUN': 0.03832,\n",
       " 'MRO': 0.00199,\n",
       " 'PFE': 0.06271,\n",
       " 'ANTM': 0.01721,\n",
       " 'CI': 0.00604,\n",
       " 'HUM': 0.00989,\n",
       " 'JNJ': 0.01618}"
      ]
     },
     "execution_count": 17,
     "metadata": {},
     "output_type": "execute_result"
    }
   ],
   "source": [
    "x=rwma(data)\n",
    "out_dict = {data.columns[i]:round(x[i],5) for i in range(len(data.columns))}\n",
    "out_dict"
   ]
  },
  {
   "cell_type": "code",
   "execution_count": null,
   "metadata": {},
   "outputs": [],
   "source": []
  }
 ],
 "metadata": {
  "kernelspec": {
   "display_name": "Python 3",
   "language": "python",
   "name": "python3"
  },
  "language_info": {
   "codemirror_mode": {
    "name": "ipython",
    "version": 3
   },
   "file_extension": ".py",
   "mimetype": "text/x-python",
   "name": "python",
   "nbconvert_exporter": "python",
   "pygments_lexer": "ipython3",
   "version": "3.7.1"
  }
 },
 "nbformat": 4,
 "nbformat_minor": 2
}
