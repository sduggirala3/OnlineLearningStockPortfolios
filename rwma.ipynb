{
 "cells": [
  {
   "cell_type": "code",
   "execution_count": null,
   "metadata": {},
   "outputs": [],
   "source": [
    "import numpy as np\n",
    "import random"
   ]
  },
  {
   "cell_type": "code",
   "execution_count": 1,
   "metadata": {},
   "outputs": [],
   "source": [
    "def rwma(data):\n",
    "    #data is an N by T array with returns for each expert/stock i in time t forming a row\n",
    "    \n",
    "    N = len(data[0]) # number of stocks\n",
    "    T = len(data)\n",
    "    \n",
    "    eps = np.sqrt(np.log(N)/T)\n",
    "    \n",
    "    w = np.ones(N)\n",
    "    #M = np.zeros(N)\n",
    "    #M_wma_random = 0\n",
    "\n",
    "    #allweights = []\n",
    "\n",
    "    # iterations\n",
    "    for t in range (T):\n",
    "        \n",
    "        # reveal outcome, suppose it is random\n",
    "        y = (data[t]>0).astype(int) #find for each expert if return was positive or not\n",
    "        \n",
    "        #M_wma_random += (x != y) #count number of mistakes\n",
    "\n",
    "        # weight update\n",
    "        for i in range(N):\n",
    "            w[i] = w[i]*(1 - eps)**(y[i]) # penalize weight if made wrong prediction\n",
    "        #M = M + (f != y)\n",
    "   \n",
    "    return w"
   ]
  },
  {
   "cell_type": "code",
   "execution_count": null,
   "metadata": {},
   "outputs": [],
   "source": []
  }
 ],
 "metadata": {
  "kernelspec": {
   "display_name": "Python 3",
   "language": "python",
   "name": "python3"
  },
  "language_info": {
   "codemirror_mode": {
    "name": "ipython",
    "version": 3
   },
   "file_extension": ".py",
   "mimetype": "text/x-python",
   "name": "python",
   "nbconvert_exporter": "python",
   "pygments_lexer": "ipython3",
   "version": "3.7.1"
  }
 },
 "nbformat": 4,
 "nbformat_minor": 2
}
