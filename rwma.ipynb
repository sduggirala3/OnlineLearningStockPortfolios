{
 "cells": [
  {
   "cell_type": "code",
   "execution_count": 1,
   "metadata": {},
   "outputs": [],
   "source": [
    "import numpy as np\n",
    "import pandas as pd\n",
    "import random"
   ]
  },
  {
   "cell_type": "code",
   "execution_count": 2,
   "metadata": {},
   "outputs": [],
   "source": [
    "def rwma(data):\n",
    "    #data is an N by T array with returns for each expert/stock i in time t forming a row\n",
    "    #data = np.array(data)\n",
    "    #data = totalassetdata\n",
    "    \n",
    "    N = len(data.columns) # number of stocks\n",
    "    T = len(data)\n",
    "    \n",
    "    eps = np.sqrt(np.log(N)/T)\n",
    "    \n",
    "    w = np.ones(N)\n",
    "    #M = np.zeros(N)\n",
    "    #M_wma_random = 0\n",
    "\n",
    "    #allweights = []\n",
    "\n",
    "    # iterations\n",
    "    for t in range(T):\n",
    "               \n",
    "        # reveal outcome, suppose it is random\n",
    "        y = (data.iloc[t]<0).astype(int) #find for each expert if return was negative (loss 1)\n",
    "        \n",
    "        #M_wma_random += (x != y) #count number of mistakes\n",
    "\n",
    "        # weight update\n",
    "        for i in range(N):\n",
    "            w[i] = w[i]*(1 - eps)**(y[i]) # penalize weight if made wrong prediction\n",
    "        #M = M + (f != y)\n",
    "    \n",
    "    p = w/sum(w)\n",
    "    \n",
    "    print(eps,T,N,w)\n",
    "   \n",
    "    return p"
   ]
  },
  {
   "cell_type": "code",
   "execution_count": 4,
   "metadata": {},
   "outputs": [
    {
     "name": "stdout",
     "output_type": "stream",
     "text": [
      "0.05971638133786811 997 35 [3.13133378e-14 1.86733455e-13 5.00126898e-13 1.65097263e-13\n",
      " 1.21348447e-13 8.38662922e-14 1.49567007e-14 6.01594147e-13\n",
      " 4.15773516e-13 3.76662820e-14 3.45647510e-13 3.76662820e-14\n",
      " 8.91925485e-14 4.81856002e-14 2.54055021e-13 7.69605428e-13\n",
      " 4.42178836e-13 3.67599204e-13 1.75582409e-13 9.25745292e-13\n",
      " 8.70463133e-13 4.26024930e-14 1.37251305e-13 3.05598468e-13\n",
      " 1.29055154e-13 2.38883775e-13 7.69605428e-13 2.44773751e-14\n",
      " 3.67599204e-13 1.91337601e-14 6.01594147e-13 1.65097263e-13\n",
      " 5.79616398e-14 9.48570694e-14 1.55238252e-13]\n"
     ]
    },
    {
     "data": {
      "text/plain": [
       "1.0"
      ]
     },
     "execution_count": 4,
     "metadata": {},
     "output_type": "execute_result"
    }
   ],
   "source": [
    "data = pd.read_excel('trading_data.xlsx')\n",
    "(rwma(data))"
   ]
  },
  {
   "cell_type": "code",
   "execution_count": 5,
   "metadata": {},
   "outputs": [
    {
     "name": "stdout",
     "output_type": "stream",
     "text": [
      "0.05971638133786811 997 35 [3.13133378e-14 1.86733455e-13 5.00126898e-13 1.65097263e-13\n",
      " 1.21348447e-13 8.38662922e-14 1.49567007e-14 6.01594147e-13\n",
      " 4.15773516e-13 3.76662820e-14 3.45647510e-13 3.76662820e-14\n",
      " 8.91925485e-14 4.81856002e-14 2.54055021e-13 7.69605428e-13\n",
      " 4.42178836e-13 3.67599204e-13 1.75582409e-13 9.25745292e-13\n",
      " 8.70463133e-13 4.26024930e-14 1.37251305e-13 3.05598468e-13\n",
      " 1.29055154e-13 2.38883775e-13 7.69605428e-13 2.44773751e-14\n",
      " 3.67599204e-13 1.91337601e-14 6.01594147e-13 1.65097263e-13\n",
      " 5.79616398e-14 9.48570694e-14 1.55238252e-13]\n"
     ]
    },
    {
     "data": {
      "text/plain": [
       "{'XOM': 0.00326,\n",
       " 'SBUX': 0.01946,\n",
       " 'AAPL': 0.05213,\n",
       " 'GOOG': 0.01721,\n",
       " 'PYPL': 0.01265,\n",
       " 'FB': 0.00874,\n",
       " 'NFLX': 0.00156,\n",
       " 'SQ': 0.06271,\n",
       " 'MSFT': 0.04334,\n",
       " 'IBM': 0.00393,\n",
       " 'MCD': 0.03603,\n",
       " 'AMZN': 0.00393,\n",
       " 'NKE': 0.0093,\n",
       " 'TSLA': 0.00502,\n",
       " 'EL': 0.02648,\n",
       " 'CSCO': 0.08022,\n",
       " 'WMT': 0.04609,\n",
       " 'KO': 0.03832,\n",
       " 'PM': 0.0183,\n",
       " 'PG': 0.0965,\n",
       " 'PEP': 0.09074,\n",
       " 'GS': 0.00444,\n",
       " 'BAC': 0.01431,\n",
       " 'JPM': 0.03186,\n",
       " 'BLK': 0.01345,\n",
       " 'ICE': 0.0249,\n",
       " 'SO': 0.08022,\n",
       " 'PBR': 0.00255,\n",
       " 'RUN': 0.03832,\n",
       " 'MRO': 0.00199,\n",
       " 'PFE': 0.06271,\n",
       " 'ANTM': 0.01721,\n",
       " 'CI': 0.00604,\n",
       " 'HUM': 0.00989,\n",
       " 'JNJ': 0.01618}"
      ]
     },
     "execution_count": 5,
     "metadata": {},
     "output_type": "execute_result"
    }
   ],
   "source": [
    "x=rwma(data)\n",
    "out_dict = {data.columns[i]:round(x[i],5) for i in range(len(data.columns))}\n",
    "out_dict"
   ]
  },
  {
   "cell_type": "code",
   "execution_count": null,
   "metadata": {},
   "outputs": [],
   "source": []
  }
 ],
 "metadata": {
  "kernelspec": {
   "display_name": "Python 3",
   "language": "python",
   "name": "python3"
  },
  "language_info": {
   "codemirror_mode": {
    "name": "ipython",
    "version": 3
   },
   "file_extension": ".py",
   "mimetype": "text/x-python",
   "name": "python",
   "nbconvert_exporter": "python",
   "pygments_lexer": "ipython3",
   "version": "3.7.1"
  }
 },
 "nbformat": 4,
 "nbformat_minor": 2
}
